{
 "cells": [
  {
   "cell_type": "code",
   "execution_count": null,
   "metadata": {
    "collapsed": true
   },
   "outputs": [],
   "source": [
    "from urllib.request import urlopen\n",
    "from bs4 import BeautifulSoup\n",
    "\n",
    "link=\"https://en.wikipedia.org/wiki/\"\n",
    "code = urlopen(link).read()\n",
    "soup = BeautifulSoup(code)\n",
    "\n",
    "for script in soup([\"script\", \"style\"]):\n",
    "    script.extract()\n",
    "    \n",
    "txt = soup.get_text()\n",
    "\n",
    "\n",
    "l = (line.strip() for line in txt.splitlines())\n",
    "\n",
    "chunkz= (phrases.strip() for line in l for phrases in line.split(\"  \"))\n",
    "\n",
    "text= '\\n'.join(chunk for chunk in chunkz if chunk)\n",
    "\n",
    "print(text)"
   ]
  }
 ],
 "metadata": {
  "kernelspec": {
   "display_name": "Python 3",
   "language": "python",
   "name": "python3"
  },
  "language_info": {
   "codemirror_mode": {
    "name": "ipython",
    "version": 3
   },
   "file_extension": ".py",
   "mimetype": "text/x-python",
   "name": "python",
   "nbconvert_exporter": "python",
   "pygments_lexer": "ipython3",
   "version": "3.6.1"
  }
 },
 "nbformat": 4,
 "nbformat_minor": 2
}
